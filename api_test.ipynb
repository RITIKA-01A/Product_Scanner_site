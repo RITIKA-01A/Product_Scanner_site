{
 "cells": [
  {
   "cell_type": "code",
   "execution_count": 1,
   "id": "e73df550",
   "metadata": {},
   "outputs": [
    {
     "name": "stdout",
     "output_type": "stream",
     "text": [
      "200\n",
      "{'brand': 'NIVEA', 'expiry': 'E11/23', 'name': 'NATURALLY GOOD AVOCADO BODY LOTION', 'price': 'Rs.299.00', 'product_type': 'Body Lotion', 'size': '200ml', 'sku': '83353'}\n"
     ]
    }
   ],
   "source": [
    "import requests\n",
    "import base64\n",
    "\n",
    "# Load and encode image\n",
    "with open(\"sh.jpg\", \"rb\") as image_file:\n",
    "    base64_image = base64.b64encode(image_file.read()).decode(\"utf-8\")\n",
    "\n",
    "# API endpoint\n",
    "url = \"http://localhost:5000/scan_product\"\n",
    "payload = {\n",
    "    \"image\": base64_image\n",
    "}\n",
    "\n",
    "# Send POST request\n",
    "response = requests.post(url, json=payload)\n",
    "\n",
    "# Print response\n",
    "print(response.status_code)\n",
    "print(response.json())\n"
   ]
  },
  {
   "cell_type": "code",
   "execution_count": null,
   "id": "29a89437",
   "metadata": {},
   "outputs": [
    {
     "name": "stdout",
     "output_type": "stream",
     "text": [
      "📷 Starting camera. Press Q to quit...\n",
      "🔍 Response: {'error': 'Failed to extract product information'}\n",
      "🔍 Response: {'brand': 'Garnier Men', 'expiry': None, 'name': 'Deep Clean Charcoal Face Wash', 'price': None, 'product_type': 'Face Wash', 'size': '100 ml', 'sku': None}\n",
      "🔍 Response: {'brand': 'garnier', 'expiry': None, 'name': 'men face wash', 'price': None, 'product_type': 'face wash', 'size': '100g', 'sku': None}\n",
      "🔍 Response: {'brand': 'Garnier', 'expiry': '03/2026', 'name': 'Turbo Bright Anti-Pollution Brightening Face Wash', 'price': 'Rs 129.00', 'product_type': 'Face Wash', 'size': '50 g', 'sku': None}\n",
      "👋 Exiting.\n"
     ]
    }
   ],
   "source": [
    "# import cv2\n",
    "# import base64\n",
    "# import requests\n",
    "# import time\n",
    "\n",
    "# API_URL = \"http://localhost:5000/scan_product\"\n",
    "\n",
    "# # Initialize webcam\n",
    "# cap = cv2.VideoCapture(0)  # Use 0 or 1 based on your setup\n",
    "\n",
    "# scan_interval = 3  # seconds\n",
    "# last_scan_time = 0\n",
    "\n",
    "# print(\"📷 Starting camera. Press Q to quit...\")\n",
    "\n",
    "# while True:\n",
    "#     ret, frame = cap.read()\n",
    "#     if not ret:\n",
    "#         print(\"❌ Failed to read from camera.\")\n",
    "#         break\n",
    "\n",
    "#     cv2.imshow(\"Scanner Feed\", frame)\n",
    "#     current_time = time.time()\n",
    "\n",
    "#     if current_time - last_scan_time > scan_interval:\n",
    "#         # Encode frame as JPEG, then base64\n",
    "#         _, buffer = cv2.imencode('.jpg', frame)\n",
    "#         base64_img = base64.b64encode(buffer).decode('utf-8')\n",
    "\n",
    "#         # Send to Flask API\n",
    "#         response = requests.post(API_URL, json={\"image\": base64_img})\n",
    "#         try:\n",
    "#             print(\"🔍 Response:\", response.json())\n",
    "#         except Exception:\n",
    "#             print(\"❌ Error in response:\", response.text)\n",
    "\n",
    "#         last_scan_time = current_time\n",
    "\n",
    "#     if cv2.waitKey(1) & 0xFF == ord('q'):\n",
    "#         print(\"👋 Exiting.\")\n",
    "#         break\n",
    "\n",
    "# cap.release()\n",
    "# cv2.destroyAllWindows()\n"
   ]
  },
  {
   "cell_type": "code",
   "execution_count": null,
   "id": "e8b87c42",
   "metadata": {},
   "outputs": [],
   "source": []
  }
 ],
 "metadata": {
  "kernelspec": {
   "display_name": "myenv",
   "language": "python",
   "name": "python3"
  },
  "language_info": {
   "codemirror_mode": {
    "name": "ipython",
    "version": 3
   },
   "file_extension": ".py",
   "mimetype": "text/x-python",
   "name": "python",
   "nbconvert_exporter": "python",
   "pygments_lexer": "ipython3",
   "version": "3.10.17"
  }
 },
 "nbformat": 4,
 "nbformat_minor": 5
}
